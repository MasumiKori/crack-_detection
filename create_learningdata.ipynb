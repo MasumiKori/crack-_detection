{
 "cells": [
  {
   "cell_type": "code",
   "execution_count": 1,
   "metadata": {},
   "outputs": [],
   "source": [
    "import cv2\n",
    "import numpy as np\n",
    "from matplotlib import pyplot as plt"
   ]
  },
  {
   "cell_type": "code",
   "execution_count": 4,
   "metadata": {},
   "outputs": [],
   "source": [
    "def scanning(img):\n",
    "    k_size = 15\n",
    "    step = k_size\n",
    "    h,w = img.shape[:2]\n",
    "    x = k_size\n",
    "    y = k_size\n",
    "    x_step = step\n",
    "    y_step = step\n",
    "    x0 = 0\n",
    "    y0 = 0\n",
    "    j = 0\n",
    "    \n",
    "    #縦方向の操作を行うループ\n",
    "    while y + (j * y_step) < h:\n",
    "        i = 0\n",
    "        ys = y0 + (j * y_step)\n",
    "        yf = y + (j * y_step)\n",
    "        \n",
    "        #横方向の操作をするループ\n",
    "        while x + (i * x_step) < w:\n",
    "            roi = img[ys:yf, x0 + (i * x_step):x + (i * x_step)]\n",
    "            \n",
    "            #ここからが領域に対する画像処理\n",
    "            folder = './image_15/'\n",
    "            file = 'crack_{}_{}.jpg'.format(i+1, j+1)\n",
    "            cv2.imwrite(folder + file, roi)\n",
    "            #ここまでが領域に対する画像処理\n",
    "            \n",
    "            i = i + 1\n",
    "        j = j + 1\n",
    "    return 0"
   ]
  },
  {
   "cell_type": "code",
   "execution_count": 5,
   "metadata": {},
   "outputs": [
    {
     "data": {
      "text/plain": [
       "0"
      ]
     },
     "execution_count": 5,
     "metadata": {},
     "output_type": "execute_result"
    }
   ],
   "source": [
    "img = cv2.imread('./image_256/img_256_4.jpg')\n",
    "\n",
    "scanning(img)"
   ]
  },
  {
   "cell_type": "code",
   "execution_count": null,
   "metadata": {},
   "outputs": [],
   "source": []
  }
 ],
 "metadata": {
  "kernelspec": {
   "display_name": "rebuild_keras",
   "language": "python",
   "name": "rebuild_keras"
  },
  "language_info": {
   "codemirror_mode": {
    "name": "ipython",
    "version": 3
   },
   "file_extension": ".py",
   "mimetype": "text/x-python",
   "name": "python",
   "nbconvert_exporter": "python",
   "pygments_lexer": "ipython3",
   "version": "3.6.9"
  }
 },
 "nbformat": 4,
 "nbformat_minor": 2
}
